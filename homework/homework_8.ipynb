{
  "cells": [
    {
      "cell_type": "code",
      "execution_count": 1,
      "metadata": {
        "id": "N8ioBZhNu4T5"
      },
      "outputs": [],
      "source": [
        "import itertools\n",
        "\n",
        "import pandas as pd\n",
        "import numpy as np\n",
        "import numpy as np\n",
        "import cvxpy as cp\n",
        "import matplotlib.pyplot as plt\n",
        "\n",
        "plt.style.use(\"seaborn\")"
      ]
    },
    {
      "cell_type": "markdown",
      "metadata": {
        "id": "ZfOU_2j4u4T_"
      },
      "source": [
        "# Question 1: Gradient and Newton methods"
      ]
    },
    {
      "cell_type": "code",
      "execution_count": 2,
      "metadata": {
        "id": "LVCKEZwnu4UC"
      },
      "outputs": [],
      "source": [
        "n = 100\n",
        "m = 200\n",
        "np.random.seed(1)\n",
        "A = np.random.normal(size=(m, n))"
      ]
    },
    {
      "cell_type": "markdown",
      "metadata": {
        "id": "GHmkmyx3u4UD"
      },
      "source": [
        "Use cvxpy to get an accurate p_star which we'll use to plot error."
      ]
    },
    {
      "cell_type": "code",
      "execution_count": 3,
      "metadata": {
        "id": "aKUppESeu4UE"
      },
      "outputs": [],
      "source": [
        "x = cp.Variable(n)\n",
        "problem = cp.Problem(\n",
        "    cp.Minimize(- cp.sum(cp.log(1 - A @ x)) - cp.sum(cp.log(1 - x ** 2)))\n",
        ")\n",
        "\n",
        "p_star = problem.solve()"
      ]
    },
    {
      "cell_type": "markdown",
      "metadata": {
        "id": "2vi8WtRXu4UF"
      },
      "source": [
        "Next we define our objective and calculate the first and second derivatives via the chain rule."
      ]
    },
    {
      "cell_type": "code",
      "execution_count": 4,
      "metadata": {
        "id": "cFXcTD8tu4UF"
      },
      "outputs": [],
      "source": [
        "def objective(x):\n",
        "    return -np.log(1 - A @ x).sum() - np.log(1 - x ** 2).sum()\n",
        "\n",
        "\n",
        "def grad(x):\n",
        "    return A.T @ (1 / (1 - A @ x)) + 2 * x / (1 - x ** 2)\n",
        "\n",
        "\n",
        "# Note that actually 2 * x / (1 - x ** 2) is simply 1 / (1 - x) - 1 / (1 + x)\n",
        "# which is a hell of a lot easier to differentiate (no product rule)\n",
        "# so calculating the hessian is easier\n",
        "\n",
        "\n",
        "def hess(x):\n",
        "    return A.T @ np.diag(1 / (1 - A @ x) ** 2) @ A + np.diag(1 / (1 + x) ** 2 + 1 / (1 - x) ** 2)"
      ]
    },
    {
      "cell_type": "code",
      "execution_count": 5,
      "metadata": {
        "id": "yDyW_LjMu4UG"
      },
      "outputs": [],
      "source": [
        "MAX_ITERATIONS = 1000\n",
        "DEF_ALPHA = 0.05\n",
        "DEF_BETA = 0.8\n",
        "\n",
        "def iterate(x, v, alpha=DEF_ALPHA, beta=DEF_BETA):\n",
        "    val = objective(x)\n",
        "    if np.linalg.norm(v) < 1e-4:\n",
        "        return\n",
        "    t = 1\n",
        "    # Check we're in the domain of our objective\n",
        "    while np.isnan(objective(x + t * v)):\n",
        "        t *= beta\n",
        "    # Then check the backtracking criteria\n",
        "    while (objective(x + t * v) >= objective(x) + alpha * t * grad(x).T @ v):\n",
        "        t *= beta\n",
        "    return x + t * v"
      ]
    },
    {
      "cell_type": "markdown",
      "metadata": {
        "id": "HUm1XNDfu4UG"
      },
      "source": [
        "First, we use the gradient method by just taking the descent direction to be the negative gradient."
      ]
    },
    {
      "cell_type": "code",
      "execution_count": 6,
      "metadata": {
        "colab": {
          "base_uri": "https://localhost:8080/",
          "height": 330
        },
        "id": "h1CihwyLu4UH",
        "outputId": "0aab240d-3f12-4abd-e053-336563163a2e"
      },
      "outputs": [
        {
          "output_type": "stream",
          "name": "stderr",
          "text": [
            "/usr/local/lib/python3.7/dist-packages/ipykernel_launcher.py:2: RuntimeWarning: invalid value encountered in log\n",
            "  \n"
          ]
        },
        {
          "output_type": "execute_result",
          "data": {
            "text/plain": [
              "Text(0.5, 0, 'iteration')"
            ]
          },
          "metadata": {},
          "execution_count": 6
        },
        {
          "output_type": "display_data",
          "data": {
            "text/plain": [
              "<Figure size 432x288 with 1 Axes>"
            ],
            "image/png": "[encoded data removed]"
          },
          "metadata": {
            "needs_background": "light"
          }
        }
      ],
      "source": [
        "# Set x_0 to be all zeros, which is in the domain\n",
        "x = np.zeros(n)\n",
        "\n",
        "error = []\n",
        "\n",
        "for _ in range(MAX_ITERATIONS):\n",
        "    x = iterate(x, -grad(x))\n",
        "    if x is None:\n",
        "        break\n",
        "    error.append(objective(x) - p_star)\n",
        "    \n",
        "error = np.array(error)\n",
        "\n",
        "plt.plot(error[error > 0.01])\n",
        "plt.gca().set_ylabel(\"error (difference to p*)\") \n",
        "plt.gca().set_xlabel(\"iteration\") "
      ]
    },
    {
      "cell_type": "code",
      "execution_count": 7,
      "metadata": {
        "colab": {
          "base_uri": "https://localhost:8080/",
          "height": 381
        },
        "id": "ZDFjtPWBu4UK",
        "outputId": "70774b0b-ac32-475c-9758-5de8067d0982"
      },
      "outputs": [
        {
          "output_type": "stream",
          "name": "stderr",
          "text": [
            "/usr/local/lib/python3.7/dist-packages/ipykernel_launcher.py:7: FutureWarning: `rcond` parameter will change to the default of machine precision times ``max(M, N)`` where M and N are the input matrix dimensions.\n",
            "To use the future default and silence this warning we advise to pass `rcond=None`, to keep using the old, explicitly pass `rcond=-1`.\n",
            "  import sys\n",
            "/usr/local/lib/python3.7/dist-packages/ipykernel_launcher.py:2: RuntimeWarning: invalid value encountered in log\n",
            "  \n"
          ]
        },
        {
          "output_type": "execute_result",
          "data": {
            "text/plain": [
              "Text(0.5, 0, 'iteration')"
            ]
          },
          "metadata": {},
          "execution_count": 7
        },
        {
          "output_type": "display_data",
          "data": {
            "text/plain": [
              "<Figure size 432x288 with 1 Axes>"
            ],
            "image/png": "[encoded data removed]"
          },
          "metadata": {
            "needs_background": "light"
          }
        }
      ],
      "source": [
        "# Set x_0 to be all zeros, which is in the domain\n",
        "x = np.zeros(n)\n",
        "\n",
        "error = []\n",
        "\n",
        "for _ in range(MAX_ITERATIONS):\n",
        "    v = np.linalg.lstsq(-hess(x), grad(x))[0]\n",
        "    x = iterate(x, v)\n",
        "    if x is None:\n",
        "        break\n",
        "    error.append(objective(x) - p_star)\n",
        "    \n",
        "error = np.array(error)\n",
        "\n",
        "plt.plot(error[error > 0.01])\n",
        "plt.gca().set_ylabel(\"error (difference to p*)\") \n",
        "plt.gca().set_xlabel(\"iteration\") "
      ]
    },
    {
      "cell_type": "markdown",
      "metadata": {
        "id": "W-n6Zd5Vu4UN"
      },
      "source": [
        "Wow, Newton's is _a lot_ faster here, solving it in 5 iterations instead of 160."
      ]
    },
    {
      "cell_type": "markdown",
      "metadata": {
        "id": "auSRo6Ygu4UO"
      },
      "source": [
        "# Question 3: Flux balance analysis in systems biology "
      ]
    },
    {
      "cell_type": "markdown",
      "metadata": {
        "id": "GzYJ6aZMu4UO"
      },
      "source": [
        "### Convert Matlab data generation to numpy"
      ]
    },
    {
      "cell_type": "code",
      "execution_count": 8,
      "metadata": {
        "id": "qnua0nGhu4UP"
      },
      "outputs": [],
      "source": [
        "S = np.array(\n",
        "    [\n",
        "        [1, 0, 0, 0, 0, 0],\n",
        "        [-1, 1, 0, 0, 0, 0],\n",
        "        [-1, 0, 1, 0, 0, 0],\n",
        "        [0, -1, 0, 2, -1, 0],\n",
        "        [0, 0, 0, 0, 1, 0],\n",
        "        [0, -2, 1, 0, 0, 1],\n",
        "        [0, 0, -1, 1, 0, 0],\n",
        "        [0, 0, 0, 0, 0, -1],\n",
        "        [0, 0, 0, -1, 0, 0],\n",
        "    ]\n",
        ").T\n",
        "\n",
        "m, n = S.shape\n",
        "vmax = np.array([10.10, 100, 5.90, 100, 3.70, 100, 100, 100, 100])"
      ]
    },
    {
      "cell_type": "markdown",
      "metadata": {
        "id": "g3JeFEMQu4UQ"
      },
      "source": [
        "### Run optimisation"
      ]
    },
    {
      "cell_type": "code",
      "execution_count": 9,
      "metadata": {
        "colab": {
          "base_uri": "https://localhost:8080/"
        },
        "id": "-twcl2zUu4UW",
        "outputId": "cca3831d-ebdd-4d3b-ae4e-64741cb6d5dd"
      },
      "outputs": [
        {
          "output_type": "execute_result",
          "data": {
            "text/plain": [
              "13.54999999695169"
            ]
          },
          "metadata": {},
          "execution_count": 9
        }
      ],
      "source": [
        "v = cp.Variable(n)\n",
        "problem = cp.Problem(\n",
        "    objective=cp.Maximize(v[-1]),\n",
        "    constraints=[S @ v == 0, v >= 0, v <= vmax],\n",
        ")\n",
        "\n",
        "g_star = problem.solve()\n",
        "g_star"
      ]
    },
    {
      "cell_type": "markdown",
      "metadata": {
        "id": "g0aRoBk5u4UX"
      },
      "source": [
        "Which of the reaction rate limits have nonzero optimal Lagrange multipliers? We just look at the dual to see\n",
        "that R1, R3 and R5 are non zero."
      ]
    },
    {
      "cell_type": "code",
      "execution_count": 10,
      "metadata": {
        "colab": {
          "base_uri": "https://localhost:8080/"
        },
        "id": "31Hp5dE5u4UX",
        "outputId": "27c7ad0c-c41e-4510-dd92-f6818294fe7c"
      },
      "outputs": [
        {
          "output_type": "execute_result",
          "data": {
            "text/plain": [
              "array([ True, False,  True, False,  True, False, False, False, False])"
            ]
          },
          "metadata": {},
          "execution_count": 10
        }
      ],
      "source": [
        "dual = problem.constraints[2].dual_value\n",
        "nonzero_lagrange = dual > 1e-8\n",
        "nonzero_lagrange"
      ]
    },
    {
      "cell_type": "markdown",
      "metadata": {
        "id": "pDOmXRXEu4UY"
      },
      "source": [
        "And the largest is for R5, suggesting that increasing this reaction rate limit would have the biggest effect - ie, \n",
        "the maximal growth rate is most sensitive to R5."
      ]
    },
    {
      "cell_type": "code",
      "execution_count": 11,
      "metadata": {
        "colab": {
          "base_uri": "https://localhost:8080/"
        },
        "id": "RfTO2YV6u4UY",
        "outputId": "a70bb359-6b3d-4bb8-c34a-c5d80b41c5e4"
      },
      "outputs": [
        {
          "output_type": "execute_result",
          "data": {
            "text/plain": [
              "array([0.5, 0.5, 1.5])"
            ]
          },
          "metadata": {},
          "execution_count": 11
        }
      ],
      "source": [
        "dual[nonzero_lagrange]"
      ]
    },
    {
      "cell_type": "markdown",
      "metadata": {
        "id": "u8rRRTuWu4UZ"
      },
      "source": [
        "To find essential genes and synthetic lethals, we run the optimisation with each $v_i$ set to 0 and each $v_i, v_j$ \n",
        "pair set to 0 to find the ones such that the maximum growth rate is less than $0.2G^\\star$."
      ]
    },
    {
      "cell_type": "code",
      "execution_count": 12,
      "metadata": {
        "id": "7JS1NWnCu4UZ"
      },
      "outputs": [],
      "source": [
        "essentials = []\n",
        "\n",
        "for i in range(n):\n",
        "    v = cp.Variable(n)\n",
        "    \n",
        "    vmax_clipped = vmax.copy()\n",
        "    vmax_clipped[i] = 0\n",
        "    \n",
        "    problem = cp.Problem(\n",
        "        objective=cp.Maximize(v[-1]),\n",
        "        constraints=[S @ v == 0, v >= 0, v <= vmax_clipped],\n",
        "    )\n",
        "\n",
        "    if problem.solve() < 0.2 * g_star:\n",
        "        essentials.append(i)\n",
        "        \n",
        "essentials = np.array(essentials)"
      ]
    },
    {
      "cell_type": "code",
      "execution_count": 13,
      "metadata": {
        "id": "i8xqI9cvu4Ua"
      },
      "outputs": [],
      "source": [
        "synthetic_lethals = []\n",
        "\n",
        "# Only look for combinations of genes that aren't themselves essential\n",
        "# (otherwise trivially all combinations including an essential gene are synthetic lethals)\n",
        "for i, j in itertools.combinations([i for i in range(n) if i not in essentials], r=2):\n",
        "    v = cp.Variable(n)\n",
        "\n",
        "    vmax_clipped = vmax.copy()\n",
        "    vmax_clipped[i] = 0\n",
        "    vmax_clipped[j] = 0\n",
        "\n",
        "    problem = cp.Problem(\n",
        "        objective=cp.Maximize(v[-1]),\n",
        "        constraints=[S @ v == 0, v >= 0, v <= vmax_clipped],\n",
        "    )\n",
        "\n",
        "    if problem.solve() < 0.2 * g_star:\n",
        "        synthetic_lethals.append((i, j))\n",
        "        \n",
        "synthetic_lethals = np.array(synthetic_lethals)"
      ]
    },
    {
      "cell_type": "code",
      "execution_count": 14,
      "metadata": {
        "id": "6PPP6UqQu4Ub"
      },
      "outputs": [],
      "source": [
        "# Add 1 since the indices in the question are 1-based not 0-based\n",
        "essentials += 1\n",
        "\n",
        "synthetic_lethals += 1"
      ]
    },
    {
      "cell_type": "code",
      "execution_count": 15,
      "metadata": {
        "colab": {
          "base_uri": "https://localhost:8080/",
          "height": 136
        },
        "id": "yxjcMUY0u4Ub",
        "outputId": "41ce799f-1970-4e97-f216-fd7e73cc6891"
      },
      "outputs": [
        {
          "output_type": "stream",
          "name": "stdout",
          "text": [
            "Essential genes:\n"
          ]
        },
        {
          "output_type": "display_data",
          "data": {
            "text/plain": [
              "array([1, 9])"
            ]
          },
          "metadata": {}
        },
        {
          "output_type": "stream",
          "name": "stdout",
          "text": [
            "Synthetic lethals:\n"
          ]
        },
        {
          "output_type": "display_data",
          "data": {
            "text/plain": [
              "array([[2, 3],\n",
              "       [2, 7],\n",
              "       [4, 7],\n",
              "       [5, 7]])"
            ]
          },
          "metadata": {}
        }
      ],
      "source": [
        "print(\"Essential genes:\")\n",
        "display(essentials)\n",
        "print(\"Synthetic lethals:\")\n",
        "display(synthetic_lethals)"
      ]
    },
    {
      "cell_type": "markdown",
      "metadata": {
        "id": "X0iNgqtpu4Uc"
      },
      "source": [
        "# Question 4: Online advertising displays"
      ]
    },
    {
      "cell_type": "markdown",
      "metadata": {
        "id": "C2RIYewuu4Uc"
      },
      "source": [
        "### Convert Matlab data generation to numpy\n"
      ]
    },
    {
      "cell_type": "code",
      "execution_count": 16,
      "metadata": {
        "id": "NgNyN9tyu4Ud"
      },
      "outputs": [],
      "source": [
        "n = 100  # number of ads\n",
        "m = 30  # number of contracts\n",
        "T = 60  # number of periods\n",
        "\n",
        "base_filepath = 'data/homework_8/online_advertising_displays'\n",
        "# revenue from ad i in time period j\n",
        "R_df = pd.read_csv(f'{base_filepath}/R.csv', header=None, prefix='R_')\n",
        "R = np.array(R_df)\n",
        "# R_df.head()\n",
        "assert(R.shape == (n,T))\n",
        "\n",
        "I_df = pd.read_csv(f'{base_filepath}/I.csv', header=None, prefix='I_')\n",
        "I = np.array(I_df)\n",
        "# I_df.head()\n",
        "assert(I.shape == (T,1))\n",
        "I = np.reshape( I , T )\n",
        "\n",
        "A_contr_df = pd.read_csv(f'{base_filepath}/Acontr.csv', header=None, prefix='Acontr_')\n",
        "Acontr = np.array(A_contr_df)\n",
        "# A_contr_df.head()\n",
        "assert(Acontr.shape == (n,m))\n",
        "\n",
        "T_contr_df = pd.read_csv(f'{base_filepath}/Tcontr.csv', header=None, prefix='Tcontr_')\n",
        "Tcontr = np.array(T_contr_df)\n",
        "# T_contr_df.head()\n",
        "assert(Tcontr.shape == (T,m))\n",
        "\n",
        "p_df = pd.read_csv(f'{base_filepath}/p.csv', header=None, prefix='p_')\n",
        "p = np.array(p_df)\n",
        "# p_df.head()\n",
        "assert(p.shape == (m,1))\n",
        "p = np.reshape( p , m )\n",
        "\n",
        "q_df = pd.read_csv(f'{base_filepath}/q.csv', header=None, prefix='q_')\n",
        "q = np.array(q_df)\n",
        "# q_df.head()\n",
        "assert(q.shape == (m,1))\n",
        "q = np.reshape( q , m )"
      ]
    },
    {
      "cell_type": "markdown",
      "metadata": {
        "id": "52nojAGvu4Ud"
      },
      "source": [
        "### Run optimisation"
      ]
    },
    {
      "cell_type": "code",
      "execution_count": 17,
      "metadata": {
        "colab": {
          "base_uri": "https://localhost:8080/"
        },
        "id": "ssz-fQ_Bu4Ud",
        "outputId": "3a22cf43-0d10-41ae-c476-aed8fdacfcdc"
      },
      "outputs": [
        {
          "output_type": "execute_result",
          "data": {
            "text/plain": [
              "230.5660451657393"
            ]
          },
          "metadata": {},
          "execution_count": 17
        }
      ],
      "source": [
        "N = cp.Variable((n, T))\n",
        "\n",
        "revenue = cp.sum(cp.multiply(N, R))\n",
        "penalty = p @ cp.maximum(q - cp.diag(Acontr.T @ N @ Tcontr), 0)\n",
        "\n",
        "problem = cp.Problem(\n",
        "    objective=cp.Maximize(revenue - penalty),\n",
        "    constraints=[\n",
        "        cp.sum(N, axis=0) == I,\n",
        "        N >= 0,\n",
        "    ]\n",
        ")\n",
        "problem.solve()"
      ]
    },
    {
      "cell_type": "code",
      "execution_count": 18,
      "metadata": {
        "colab": {
          "base_uri": "https://localhost:8080/"
        },
        "id": "qYSWRiAdu4Ue",
        "outputId": "2bafd872-7112-488c-ad6b-801d2330b7cc"
      },
      "outputs": [
        {
          "output_type": "stream",
          "name": "stdout",
          "text": [
            "Optimal net profit: 230.57\n",
            "Associated optimal revenue: 268.23\n",
            "Associated total penalty: 37.67\n"
          ]
        }
      ],
      "source": [
        "print(f\"Optimal net profit: {problem.value:.2f}\")\n",
        "print(f\"Associated optimal revenue: {revenue.value:.2f}\")\n",
        "print(f\"Associated total penalty: {penalty.value:.2f}\")"
      ]
    },
    {
      "cell_type": "markdown",
      "metadata": {
        "id": "h7YduyzEu4Uf"
      },
      "source": [
        "What if we just display the ad in each timestep which has the highest revenue per impression? This is equivalent to\n",
        "just maximising the profit, and ignoring the contracts."
      ]
    },
    {
      "cell_type": "code",
      "execution_count": 19,
      "metadata": {
        "colab": {
          "base_uri": "https://localhost:8080/"
        },
        "id": "ZdiNwaW2u4Ug",
        "outputId": "d875c376-16ad-4afa-a4c7-a1f9354cfd06"
      },
      "outputs": [
        {
          "output_type": "execute_result",
          "data": {
            "text/plain": [
              "305.10171166804787"
            ]
          },
          "metadata": {},
          "execution_count": 19
        }
      ],
      "source": [
        "N = cp.Variable((n, T))\n",
        "\n",
        "revenue = cp.sum(cp.multiply(N, R))\n",
        "penalty = p @ cp.maximum(q - cp.diag(Acontr.T @ N @ Tcontr), 0)\n",
        "\n",
        "problem = cp.Problem(\n",
        "    objective=cp.Maximize(revenue),\n",
        "    constraints=[\n",
        "        cp.sum(N, axis=0) == I,\n",
        "        N >= 0,\n",
        "    ]\n",
        ")\n",
        "problem.solve()"
      ]
    },
    {
      "cell_type": "code",
      "execution_count": 20,
      "metadata": {
        "colab": {
          "base_uri": "https://localhost:8080/"
        },
        "id": "LuXV-w2Ru4Ui",
        "outputId": "c5ce24f1-62e4-4e9c-c554-ee8a01881308"
      },
      "outputs": [
        {
          "output_type": "stream",
          "name": "stdout",
          "text": [
            "Greedy net profit: 72.84\n",
            "Associated greedy revenue: 305.10\n",
            "Associated total penalty: 232.26\n"
          ]
        }
      ],
      "source": [
        "print(f\"Greedy net profit: {revenue.value - penalty.value:.2f}\")\n",
        "print(f\"Associated greedy revenue: {revenue.value:.2f}\")\n",
        "print(f\"Associated total penalty: {penalty.value:.2f}\")"
      ]
    }
  ],
  "metadata": {
    "kernelspec": {
      "display_name": "Python 3",
      "language": "python",
      "name": "python3"
    },
    "language_info": {
      "codemirror_mode": {
        "name": "ipython",
        "version": 3
      },
      "file_extension": ".py",
      "mimetype": "text/x-python",
      "name": "python",
      "nbconvert_exporter": "python",
      "pygments_lexer": "ipython3",
      "version": "3.7.7"
    },
    "colab": {
      "name": "homework_8.ipynb",
      "provenance": [],
      "collapsed_sections": []
    }
  },
  "nbformat": 4,
  "nbformat_minor": 0
}