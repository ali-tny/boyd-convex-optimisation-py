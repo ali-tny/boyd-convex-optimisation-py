{
 "cells": [
  {
   "cell_type": "code",
   "execution_count": 219,
   "metadata": {},
   "outputs": [],
   "source": [
    "import cvxpy as cp\n",
    "import numpy as np\n",
    "import pandas as pd\n",
    "import matplotlib.pyplot as plt\n",
    "\n",
    "plt.style.use(\"seaborn\")"
   ]
  },
  {
   "cell_type": "markdown",
   "metadata": {},
   "source": [
    "## Question 1"
   ]
  },
  {
   "cell_type": "code",
   "execution_count": 241,
   "metadata": {},
   "outputs": [],
   "source": [
    "u_1 = -2\n",
    "u_2 = -3\n",
    "\n",
    "x = cp.Variable(2)\n",
    "\n",
    "A = np.array([[1, 2], [1, -4]])\n",
    "P = np.array([[1, -1/2], [-1/2, 2]])\n",
    "f = np.array([-1, 0])\n",
    "\n",
    "objective = cp.Minimize(cp.quad_form(x, P) + f @ x)\n",
    "constraints = [A @ x <= np.array([u_1, u_2]), np.array([1, 1]) @ x >= -5]\n",
    "\n",
    "prob = cp.Problem(objective, constraints)\n",
    "\n",
    "result = prob.solve()"
   ]
  },
  {
   "cell_type": "code",
   "execution_count": 245,
   "metadata": {},
   "outputs": [
    {
     "name": "stdout",
     "output_type": "stream",
     "text": [
      "Optimal x_2: 0.167\n",
      "Optimal \\lambda_3: 0.000\n"
     ]
    }
   ],
   "source": [
    "print(f\"Optimal x_2: {x.value[1]:.3f}\")\n",
    "print(f\"Optimal \\\\lambda_3: {constraints[1].dual_value:.3f}\")"
   ]
  },
  {
   "cell_type": "code",
   "execution_count": 248,
   "metadata": {},
   "outputs": [],
   "source": [
    "def predict(orig_optimal, lambda_, delta_1, delta_2):\n",
    "    return orig_optimal - lambda_[0] * delta_1 - lambda_[1] * delta_2\n",
    "    \n",
    "def solve(delta_1, delta_2):\n",
    "    u_1 = -2 + delta_1\n",
    "    u_2 = -3 + delta_2\n",
    "\n",
    "    x = cp.Variable(2)\n",
    "\n",
    "    A = np.array([[1, 2], [1, -4]])\n",
    "    P = np.array([[1, -1/2], [-1/2, 2]])\n",
    "    f = np.array([-1, 0])\n",
    "\n",
    "    objective = cp.Minimize(cp.quad_form(x, P) + f @ x)\n",
    "    constraints = [A @ x <= np.array([u_1, u_2]), np.array([1, 1]) @ x >= -5]\n",
    "\n",
    "    prob = cp.Problem(objective, constraints)\n",
    "\n",
    "    result = prob.solve()\n",
    "    return result"
   ]
  },
  {
   "cell_type": "code",
   "execution_count": 249,
   "metadata": {},
   "outputs": [],
   "source": [
    "lambda_ = constraints[0].dual_value\n",
    "\n",
    "rows = []\n",
    "for delta_1 in [0, -0.1, 0.1]:\n",
    "    for delta_2 in [0, -0.1, 0.1]:\n",
    "        rows.append({\n",
    "            \"delta_1\": delta_1,\n",
    "            \"delta_2\": delta_2,\n",
    "            \"predicted\": predict(result, lambda_, delta_1, delta_2),\n",
    "            \"exact\": solve(delta_1, delta_2),\n",
    "        })\n",
    "        \n",
    "perturb = pd.DataFrame(rows)\n",
    "# Make the index line up with the question, ie starts at 1\n",
    "perturb.index += 1"
   ]
  },
  {
   "cell_type": "code",
   "execution_count": 250,
   "metadata": {},
   "outputs": [
    {
     "data": {
      "text/html": [
       "<div>\n",
       "<style scoped>\n",
       "    .dataframe tbody tr th:only-of-type {\n",
       "        vertical-align: middle;\n",
       "    }\n",
       "\n",
       "    .dataframe tbody tr th {\n",
       "        vertical-align: top;\n",
       "    }\n",
       "\n",
       "    .dataframe thead th {\n",
       "        text-align: right;\n",
       "    }\n",
       "</style>\n",
       "<table border=\"1\" class=\"dataframe\">\n",
       "  <thead>\n",
       "    <tr style=\"text-align: right;\">\n",
       "      <th></th>\n",
       "      <th>delta_1</th>\n",
       "      <th>delta_2</th>\n",
       "      <th>predicted</th>\n",
       "      <th>exact</th>\n",
       "      <th>diff</th>\n",
       "    </tr>\n",
       "  </thead>\n",
       "  <tbody>\n",
       "    <tr>\n",
       "      <th>1</th>\n",
       "      <td>0.0</td>\n",
       "      <td>0.0</td>\n",
       "      <td>8.222222</td>\n",
       "      <td>8.222222</td>\n",
       "      <td>0.000000</td>\n",
       "    </tr>\n",
       "    <tr>\n",
       "      <th>8</th>\n",
       "      <td>0.1</td>\n",
       "      <td>-0.1</td>\n",
       "      <td>8.127778</td>\n",
       "      <td>8.130000</td>\n",
       "      <td>0.002222</td>\n",
       "    </tr>\n",
       "    <tr>\n",
       "      <th>3</th>\n",
       "      <td>0.0</td>\n",
       "      <td>0.1</td>\n",
       "      <td>7.977778</td>\n",
       "      <td>7.980000</td>\n",
       "      <td>0.002222</td>\n",
       "    </tr>\n",
       "    <tr>\n",
       "      <th>2</th>\n",
       "      <td>0.0</td>\n",
       "      <td>-0.1</td>\n",
       "      <td>8.466667</td>\n",
       "      <td>8.468889</td>\n",
       "      <td>0.002222</td>\n",
       "    </tr>\n",
       "    <tr>\n",
       "      <th>6</th>\n",
       "      <td>-0.1</td>\n",
       "      <td>0.1</td>\n",
       "      <td>8.316667</td>\n",
       "      <td>8.318889</td>\n",
       "      <td>0.002222</td>\n",
       "    </tr>\n",
       "    <tr>\n",
       "      <th>7</th>\n",
       "      <td>0.1</td>\n",
       "      <td>0.0</td>\n",
       "      <td>7.883333</td>\n",
       "      <td>7.887222</td>\n",
       "      <td>0.003889</td>\n",
       "    </tr>\n",
       "    <tr>\n",
       "      <th>4</th>\n",
       "      <td>-0.1</td>\n",
       "      <td>0.0</td>\n",
       "      <td>8.561111</td>\n",
       "      <td>8.565000</td>\n",
       "      <td>0.003889</td>\n",
       "    </tr>\n",
       "    <tr>\n",
       "      <th>5</th>\n",
       "      <td>-0.1</td>\n",
       "      <td>-0.1</td>\n",
       "      <td>8.805556</td>\n",
       "      <td>8.815556</td>\n",
       "      <td>0.010000</td>\n",
       "    </tr>\n",
       "    <tr>\n",
       "      <th>9</th>\n",
       "      <td>0.1</td>\n",
       "      <td>0.1</td>\n",
       "      <td>7.638889</td>\n",
       "      <td>7.648889</td>\n",
       "      <td>0.010000</td>\n",
       "    </tr>\n",
       "  </tbody>\n",
       "</table>\n",
       "</div>"
      ],
      "text/plain": [
       "   delta_1  delta_2  predicted     exact      diff\n",
       "1      0.0      0.0   8.222222  8.222222  0.000000\n",
       "8      0.1     -0.1   8.127778  8.130000  0.002222\n",
       "3      0.0      0.1   7.977778  7.980000  0.002222\n",
       "2      0.0     -0.1   8.466667  8.468889  0.002222\n",
       "6     -0.1      0.1   8.316667  8.318889  0.002222\n",
       "7      0.1      0.0   7.883333  7.887222  0.003889\n",
       "4     -0.1      0.0   8.561111  8.565000  0.003889\n",
       "5     -0.1     -0.1   8.805556  8.815556  0.010000\n",
       "9      0.1      0.1   7.638889  7.648889  0.010000"
      ]
     },
     "execution_count": 250,
     "metadata": {},
     "output_type": "execute_result"
    }
   ],
   "source": [
    "assert (perturb[\"predicted\"] <= perturb[\"exact\"]).all()\n",
    "perturb[\"diff\"] = perturb[\"exact\"] - perturb[\"predicted\"]\n",
    "perturb.sort_values(\"diff\")"
   ]
  },
  {
   "cell_type": "markdown",
   "metadata": {},
   "source": [
    "## Question 2"
   ]
  },
  {
   "cell_type": "code",
   "execution_count": 156,
   "metadata": {},
   "outputs": [
    {
     "data": {
      "text/plain": [
       "4.999999979918552"
      ]
     },
     "execution_count": 156,
     "metadata": {},
     "output_type": "execute_result"
    }
   ],
   "source": [
    "x = cp.Variable(1)\n",
    "\n",
    "objective = cp.Minimize(x ** 2 + 1)\n",
    "constraints = [x ** 2 - 6 * x + 8 <= 0]\n",
    "\n",
    "prob = cp.Problem(objective, constraints)\n",
    "\n",
    "result = prob.solve()\n",
    "result"
   ]
  },
  {
   "cell_type": "code",
   "execution_count": 177,
   "metadata": {},
   "outputs": [
    {
     "name": "stderr",
     "output_type": "stream",
     "text": [
      "/Users/aliteeney/Library/Caches/pypoetry/virtualenvs/convex-optimisation-eS08SJPC-py3.7/lib/python3.7/site-packages/ipykernel/ipkernel.py:287: DeprecationWarning: `should_run_async` will not call `transform_cell` automatically in the future. Please pass the result to `transformed_cell` argument and any exception that happen during thetransform in `preprocessing_exc_tuple` in IPython 7.17 and above.\n",
      "  and should_run_async(code)\n"
     ]
    },
    {
     "data": {
      "text/plain": [
       "<matplotlib.legend.Legend at 0x12b42b050>"
      ]
     },
     "execution_count": 177,
     "metadata": {},
     "output_type": "execute_result"
    },
    {
     "data": {
      "image/png": "[encoded data removed]",
      "text/plain": [
       "<Figure size 576x396 with 1 Axes>"
      ]
     },
     "metadata": {},
     "output_type": "display_data"
    }
   ],
   "source": [
    "p = np.linspace(-5, 5, 1000)\n",
    "\n",
    "plt.plot(p, p ** 2 + 1, label=\"objective\")\n",
    "cond = (p - 2) * (p - 4) <= 0\n",
    "plt.axvspan(p[cond].min(), p[cond].max(), alpha=0.3, color=\"tab:green\", label=\"feasible\")\n",
    "plt.gca().legend()"
   ]
  },
  {
   "cell_type": "code",
   "execution_count": 179,
   "metadata": {},
   "outputs": [
    {
     "data": {
      "text/plain": [
       "(4.5, 5.0, 4.75, 4.199999999999999)"
      ]
     },
     "execution_count": 179,
     "metadata": {},
     "output_type": "execute_result"
    }
   ],
   "source": [
    "def dual(la):\n",
    "    return - 9 * la ** 2 / (1 + la) + 1 + 8 * la\n",
    "    \n",
    "dual(1), dual(2), dual(3), dual(4) "
   ]
  },
  {
   "cell_type": "markdown",
   "metadata": {},
   "source": [
    "## Question 4"
   ]
  },
  {
   "cell_type": "code",
   "execution_count": 211,
   "metadata": {},
   "outputs": [],
   "source": [
    "r = 1.05\n",
    "m = 200\n",
    "n = 7\n",
    "V = np.zeros((m, n))\n",
    "\n",
    "F = 0.9\n",
    "C = 1.15\n",
    "\n",
    "V[:, 0] = r\n",
    "V[:, 1] = np.linspace(0, 2, m)\n",
    "V[:, 2] = (V[:, 1] - 1.1).clip(0)\n",
    "V[:, 3] = (V[:, 1] - 1.2).clip(0)\n",
    "V[:, 4] = (0.8 - V[:, 1]).clip(0)\n",
    "V[:, 5] = (0.7 - V[:, 1]).clip(0)\n",
    "V[:, 6] = (V[:, 1] - 1).clip(min=F - 1, max=C - 1)\n",
    "\n",
    "p = np.array([1, 1, 0.06, 0.03, 0.02, 0.01])"
   ]
  },
  {
   "cell_type": "code",
   "execution_count": 218,
   "metadata": {},
   "outputs": [
    {
     "name": "stdout",
     "output_type": "stream",
     "text": [
      "Bound on collar price: 0.033, 0.065\n"
     ]
    }
   ],
   "source": [
    "p_collar = cp.Variable(1)\n",
    "y = cp.Variable(m)\n",
    "\n",
    "constraints = [y >= 0, (V.T @ y)[:-1] == p, (V.T @ y)[-1] == p_collar]\n",
    "\n",
    "objective = cp.Minimize(p_collar)\n",
    "prob = cp.Problem(objective, constraints)\n",
    "lower_bound = prob.solve()\n",
    "\n",
    "objective = cp.Maximize(p_collar)\n",
    "prob = cp.Problem(objective, constraints)\n",
    "upper_bound = prob.solve()\n",
    "\n",
    "print(f\"Bound on collar price: {lower_bound:.3f}, {upper_bound:.3f}\")"
   ]
  }
 ],
 "metadata": {
  "kernelspec": {
   "display_name": "Python 3",
   "language": "python",
   "name": "python3"
  },
  "language_info": {
   "codemirror_mode": {
    "name": "ipython",
    "version": 3
   },
   "file_extension": ".py",
   "mimetype": "text/x-python",
   "name": "python",
   "nbconvert_exporter": "python",
   "pygments_lexer": "ipython3",
   "version": "3.7.7"
  }
 },
 "nbformat": 4,
 "nbformat_minor": 4
}
