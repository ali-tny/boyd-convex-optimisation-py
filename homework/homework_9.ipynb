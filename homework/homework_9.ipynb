{
 "cells": [
  {
   "cell_type": "code",
   "execution_count": 1,
   "metadata": {},
   "outputs": [],
   "source": [
    "import cvxpy as cp\n",
    "import numpy as np\n",
    "import scipy"
   ]
  },
  {
   "cell_type": "markdown",
   "metadata": {},
   "source": [
    "# Question 2: Maximum likelihood prediction of team ability "
   ]
  },
  {
   "cell_type": "markdown",
   "metadata": {},
   "source": [
    "### Convert Matlab data generation to numpy"
   ]
  },
  {
   "cell_type": "code",
   "execution_count": 2,
   "metadata": {},
   "outputs": [],
   "source": [
    "n = 10\n",
    "m = 45\n",
    "m_test = 45\n",
    "sigma = 0.250\n",
    "\n",
    "train = np.array(\n",
    "    [\n",
    "        [1, 2, 1],\n",
    "        [1, 3, 1],\n",
    "        [1, 4, 1],\n",
    "        [1, 5, 1],\n",
    "        [1, 6, 1],\n",
    "        [1, 7, 1],\n",
    "        [1, 8, 1],\n",
    "        [1, 9, 1],\n",
    "        [1, 10, 1],\n",
    "        [2, 3, -1],\n",
    "        [2, 4, -1],\n",
    "        [2, 5, -1],\n",
    "        [2, 6, -1],\n",
    "        [2, 7, -1],\n",
    "        [2, 8, -1],\n",
    "        [2, 9, -1],\n",
    "        [2, 10, -1],\n",
    "        [3, 4, 1],\n",
    "        [3, 5, -1],\n",
    "        [3, 6, -1],\n",
    "        [3, 7, 1],\n",
    "        [3, 8, 1],\n",
    "        [3, 9, 1],\n",
    "        [3, 10, 1],\n",
    "        [4, 5, -1],\n",
    "        [4, 6, -1],\n",
    "        [4, 7, 1],\n",
    "        [4, 8, 1],\n",
    "        [4, 9, -1],\n",
    "        [4, 10, -1],\n",
    "        [5, 6, 1],\n",
    "        [5, 7, 1],\n",
    "        [5, 8, 1],\n",
    "        [5, 9, -1],\n",
    "        [5, 10, 1],\n",
    "        [6, 7, 1],\n",
    "        [6, 8, 1],\n",
    "        [6, 9, -1],\n",
    "        [6, 10, -1],\n",
    "        [7, 8, 1],\n",
    "        [7, 9, 1],\n",
    "        [7, 10, -1],\n",
    "        [8, 9, -1],\n",
    "        [8, 10, -1],\n",
    "        [9, 10, 1],\n",
    "    ]\n",
    ")\n",
    "\n",
    "test = np.array(\n",
    "    [\n",
    "        [1, 2, 1],\n",
    "        [1, 3, 1],\n",
    "        [1, 4, 1],\n",
    "        [1, 5, 1],\n",
    "        [1, 6, 1],\n",
    "        [1, 7, 1],\n",
    "        [1, 8, 1],\n",
    "        [1, 9, 1],\n",
    "        [1, 10, 1],\n",
    "        [2, 3, -1],\n",
    "        [2, 4, 1],\n",
    "        [2, 5, -1],\n",
    "        [2, 6, -1],\n",
    "        [2, 7, -1],\n",
    "        [2, 8, 1],\n",
    "        [2, 9, -1],\n",
    "        [2, 10, -1],\n",
    "        [3, 4, 1],\n",
    "        [3, 5, -1],\n",
    "        [3, 6, 1],\n",
    "        [3, 7, 1],\n",
    "        [3, 8, 1],\n",
    "        [3, 9, -1],\n",
    "        [3, 10, 1],\n",
    "        [4, 5, -1],\n",
    "        [4, 6, -1],\n",
    "        [4, 7, -1],\n",
    "        [4, 8, 1],\n",
    "        [4, 9, -1],\n",
    "        [4, 10, -1],\n",
    "        [5, 6, -1],\n",
    "        [5, 7, 1],\n",
    "        [5, 8, 1],\n",
    "        [5, 9, 1],\n",
    "        [5, 10, 1],\n",
    "        [6, 7, 1],\n",
    "        [6, 8, 1],\n",
    "        [6, 9, 1],\n",
    "        [6, 10, 1],\n",
    "        [7, 8, 1],\n",
    "        [7, 9, -1],\n",
    "        [7, 10, 1],\n",
    "        [8, 9, -1],\n",
    "        [8, 10, -1],\n",
    "        [9, 10, 1],\n",
    "    ]\n",
    ")\n",
    "\n",
    "# Teams are 1-indexed so use 0-indexed instead to play nice with python\n",
    "train[:, 0] -= 1\n",
    "train[:, 1] -= 1\n",
    "test[:, 0] -= 1\n",
    "test[:, 1] -= 1"
   ]
  },
  {
   "cell_type": "markdown",
   "metadata": {},
   "source": [
    "### Run optimisation"
   ]
  },
  {
   "cell_type": "markdown",
   "metadata": {},
   "source": [
    "First we form the _game incidence matrix_ A as suggested in the question, using a scipy spare\n",
    "matrix in coordinate format."
   ]
  },
  {
   "cell_type": "code",
   "execution_count": 3,
   "metadata": {},
   "outputs": [],
   "source": [
    "team_1 = train[:, 0]\n",
    "team_2 = train[:, 1]\n",
    "outcome = train[:, 2]\n",
    "i = np.arange(m)\n",
    "\n",
    "A = (\n",
    "    scipy.sparse.coo_matrix((outcome, (i, team_1)), shape=(m, n))\n",
    "    + scipy.sparse.coo_matrix((-outcome, (i, team_2)), shape=(m, n))\n",
    ")"
   ]
  },
  {
   "cell_type": "markdown",
   "metadata": {},
   "source": [
    "Each time has an modelled ability $a_i \\in [0, 1]$, such that when teams $i$ and $j$ play each\n",
    "other, the probability that team $i$ wins is equal to $\\mathbb{P}(a_i - a_j + v > 0)$ where\n",
    "$v \\sim \\mathcal{N}(0, \\sigma^2)$.\n",
    "\n",
    "We want to find the maximum likelihood estimate of the abilities $a_i$.\n",
    "\n",
    "What is the likelihood for match $i$ between teams $j$ and $k$ with outcome $v$?\n",
    "\n",
    "$$\n",
    "\\mathcal{L}(a_j, a_k | v) = \\left\\{\n",
    "\\begin{array}{ll}\n",
    "       \\mathbb{P}(v > a_j - a_i) & v = 1 \\\\\n",
    "       \\mathbb{P}(v \\leq a_j - a_i) & v = -1 \\\\\n",
    "\\end{array} \n",
    "\\right.\n",
    "= \\left\\{\n",
    "\\begin{array}{ll}\n",
    "       \\Phi(a_i - a_j) & v = 1 \\\\\n",
    "       \\Phi(a_j - a_i) & v = -1 \\\\\n",
    "\\end{array} \n",
    "\\right.\n",
    "$$\n",
    "\n",
    "where $\\Phi$ is the CDF of the normal distribution $\\mathcal{N}(0, \\sigma^2)$.\n",
    "\n",
    "To get the total (log) likelihood, we sum the log of the the individual match likelihoods."
   ]
  },
  {
   "cell_type": "markdown",
   "metadata": {},
   "source": [
    "As the question suggests, the Matlab version of `cvx` has an atom `log_normcdf` that \n",
    "unfortunately missing from the python implementation. Behind the scenes, the Matlab version actually \n",
    "just uses a piecewise quadratic approximation, so we can just copy that here."
   ]
  },
  {
   "cell_type": "code",
   "execution_count": 4,
   "metadata": {},
   "outputs": [],
   "source": [
    "import functools\n",
    "\n",
    "\n",
    "def log_normcdf(x):\n",
    "    a = np.diag(\n",
    "        np.sqrt(\n",
    "            [\n",
    "                0.018102332171520,\n",
    "                0.011338501342044,\n",
    "                0.072727608432177,\n",
    "                0.184816581789135,\n",
    "                0.189354610912339,\n",
    "                0.023660365352785,\n",
    "            ]\n",
    "        )\n",
    "    )\n",
    "    b = np.array([3, 2.5, 2, 1, -1, -2]).reshape(-1, 1)\n",
    "\n",
    "    if not x.shape:\n",
    "        x_size = 1\n",
    "    else:\n",
    "        x_size = functools.reduce(lambda i, j: i * j, x.shape)\n",
    "    flat_x = cp.reshape(x, (1, x_size))\n",
    "    y = a @ (b @ np.ones(flat_x.shape) - np.ones(b.shape) @ flat_x)\n",
    "    return cp.reshape(-cp.sum(cp.maximum(y, 0) ** 2, axis=0), x.shape)"
   ]
  },
  {
   "cell_type": "code",
   "execution_count": 5,
   "metadata": {
    "scrolled": true
   },
   "outputs": [
    {
     "data": {
      "text/plain": [
       "-11.448714758432835"
      ]
     },
     "execution_count": 5,
     "metadata": {},
     "output_type": "execute_result"
    }
   ],
   "source": [
    "a = cp.Variable(n)\n",
    "\n",
    "objective = cp.Maximize(cp.sum(log_normcdf(A @ a / sigma)))\n",
    "constraints = [a >= 0, a <= 1]\n",
    "\n",
    "problem = cp.Problem(objective, constraints)\n",
    "\n",
    "problem.solve()"
   ]
  },
  {
   "cell_type": "markdown",
   "metadata": {},
   "source": [
    "How does our solution compare to the test set? First of all, we can get a baseline by just guessing the same results\n",
    "as in `train`."
   ]
  },
  {
   "cell_type": "code",
   "execution_count": 6,
   "metadata": {},
   "outputs": [
    {
     "name": "stdout",
     "output_type": "stream",
     "text": [
      "Correct prediction when using the same outcome as train: 75.6%\n"
     ]
    }
   ],
   "source": [
    "# Assert the games are in the same order so we can directly compare the outcomes\n",
    "assert (train[:, :-1] == test[:, :-1]).all()\n",
    "\n",
    "percent_correct = (train[:, -1] == test[:, -1]).mean()\n",
    "print(f\"Correct prediction when using the same outcome as train: {percent_correct * 100:.1f}%\")"
   ]
  },
  {
   "cell_type": "code",
   "execution_count": 7,
   "metadata": {},
   "outputs": [
    {
     "name": "stdout",
     "output_type": "stream",
     "text": [
      "Correct prediction when using modelled abilities: 86.7%\n"
     ]
    }
   ],
   "source": [
    "team_1 = test[:, 0]\n",
    "team_2 = test[:, 1]\n",
    "i = np.arange(m)\n",
    "\n",
    "A_test = (\n",
    "    scipy.sparse.coo_matrix((np.ones(m), (i, team_1)), shape=(m, n))\n",
    "    + scipy.sparse.coo_matrix((-np.ones(m), (i, team_2)), shape=(m, n))\n",
    ")\n",
    "\n",
    "predictions = np.where(A_test @ a.value >= 0, 1, -1)\n",
    "percent_correct = (predictions == test[:, -1]).mean()\n",
    "print(f\"Correct prediction when using modelled abilities: {percent_correct * 100:.1f}%\")"
   ]
  },
  {
   "cell_type": "markdown",
   "metadata": {},
   "source": [
    "# Question 3: Allocation of interdiction effort "
   ]
  },
  {
   "cell_type": "markdown",
   "metadata": {},
   "source": [
    "### Convert Matlab data generation to numpy"
   ]
  },
  {
   "cell_type": "code",
   "execution_count": 8,
   "metadata": {},
   "outputs": [],
   "source": [
    "# We're seeding random here, so we can expect the outcome to be different than the course\n",
    "np.random.seed(0)\n",
    "n = 10\n",
    "m = 20\n",
    "edges = np.array([\n",
    "    [1, 1, 1, 2, 2, 2, 3, 3, 4, 4, 5, 5, 6, 6, 7, 7, 8, 7, 8, 9],\n",
    "    [2, 3, 4, 6, 3, 4, 5, 6, 6, 7, 8, 7, 7, 8, 8, 9, 9, 10, 10, 10]\n",
    "]).T\n",
    "# Convert to 0 index\n",
    "edges -= 1\n",
    "\n",
    "A = np.zeros((n, m))\n",
    "for j in range(edges.shape[0]):\n",
    "    A[edges[j, 0], j] = -1\n",
    "    A[edges[j, 1], j] = 1\n",
    "    \n",
    "a = 2 * np.random.rand(m)\n",
    "x_max = 1 + np.random.rand(m)\n",
    "B = m / 2"
   ]
  },
  {
   "cell_type": "markdown",
   "metadata": {},
   "source": [
    "### Run optimisation"
   ]
  },
  {
   "cell_type": "markdown",
   "metadata": {},
   "source": [
    "Consider the recursive problem in the question. We have that\n",
    "$$\n",
    "P_i = max_{j \\in parents}(e^{- a_{ij}x_{ij}}P_j)\n",
    "$$\n",
    "\n",
    "or, writing $z_i = logP_i$, \n",
    "$$\n",
    "z_i = max_{j \\in parents}(z_j - a_{ij}x_{ij})\n",
    "$$\n",
    "\n",
    "Or\n",
    "$$\n",
    "z_i >= (z_j - a_{ij}x_{ij}) \\forall j \\in parents\n",
    "\\implies\n",
    "z_i - z_j >= - a_{ij}x_{ij} \\forall j \\in parents\n",
    "$$\n",
    "\n",
    "This final condition is just $A^Tz \\succcurlyeq a * x$ where $*$ denotes elementwise multiplication."
   ]
  },
  {
   "cell_type": "code",
   "execution_count": 9,
   "metadata": {},
   "outputs": [
    {
     "name": "stdout",
     "output_type": "stream",
     "text": [
      "Minimised P_max: 0.009\n"
     ]
    }
   ],
   "source": [
    "# Budget for each edge\n",
    "x = cp.Variable(m)\n",
    "\n",
    "# Log failure probabilities\n",
    "z = cp.Variable(n)\n",
    "\n",
    "objective = cp.Minimize(z[-1])\n",
    "constraints = [\n",
    "    0 <= x,\n",
    "    x <= x_max,\n",
    "    cp.sum(x) <= B,\n",
    "    z[0] == 0,\n",
    "    A.T @ z >= - cp.multiply(a, x)\n",
    "]\n",
    "\n",
    "z_star = cp.Problem(objective, constraints).solve()\n",
    "\n",
    "print(f\"Minimised P_max: {np.exp(z_star):.3f}\")"
   ]
  },
  {
   "cell_type": "markdown",
   "metadata": {},
   "source": [
    "For uniform allocation of resources, we just set x to be uniform (and drop its constraints)"
   ]
  },
  {
   "cell_type": "code",
   "execution_count": 10,
   "metadata": {},
   "outputs": [
    {
     "name": "stdout",
     "output_type": "stream",
     "text": [
      "Minimised P_max: 0.162\n"
     ]
    }
   ],
   "source": [
    "# Budget for each edge\n",
    "x = np.ones(m) * B / m\n",
    "\n",
    "# Log failure probabilities\n",
    "z = cp.Variable(n)\n",
    "\n",
    "objective = cp.Minimize(z[-1])\n",
    "constraints = [\n",
    "    z[0] == 0,\n",
    "    A.T @ z >= - cp.multiply(a, x)\n",
    "]\n",
    "\n",
    "z_star = cp.Problem(objective, constraints).solve()\n",
    "\n",
    "print(f\"Minimised P_max: {np.exp(z_star):.3f}\")"
   ]
  }
 ],
 "metadata": {
  "kernelspec": {
   "display_name": "Python 3",
   "language": "python",
   "name": "python3"
  },
  "language_info": {
   "codemirror_mode": {
    "name": "ipython",
    "version": 3
   },
   "file_extension": ".py",
   "mimetype": "text/x-python",
   "name": "python",
   "nbconvert_exporter": "python",
   "pygments_lexer": "ipython3",
   "version": "3.7.7"
  }
 },
 "nbformat": 4,
 "nbformat_minor": 4
}
