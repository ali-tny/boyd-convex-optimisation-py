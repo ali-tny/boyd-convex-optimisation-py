{
 "cells": [
  {
   "cell_type": "code",
   "execution_count": 1,
   "metadata": {},
   "outputs": [],
   "source": [
    "import numpy as np\n",
    "import cvxpy as cp\n",
    "import matplotlib.pyplot as plt\n",
    "\n",
    "plt.style.use(\"seaborn\")"
   ]
  },
  {
   "cell_type": "code",
   "execution_count": 2,
   "metadata": {},
   "outputs": [],
   "source": [
    "def read_txt_array(fp):\n",
    "    with open(fp) as fh:\n",
    "        lines = fh.read().splitlines()\n",
    "    return np.stack([[float(num) for num in line.split(\",\")] for line in lines])"
   ]
  },
  {
   "cell_type": "markdown",
   "metadata": {},
   "source": [
    "## Boolean LP"
   ]
  },
  {
   "cell_type": "code",
   "execution_count": 3,
   "metadata": {},
   "outputs": [],
   "source": [
    "A = read_txt_array(\"data/matrix_A.txt\")\n",
    "c = read_txt_array(\"data/vector_c.txt\")"
   ]
  },
  {
   "cell_type": "code",
   "execution_count": 4,
   "metadata": {},
   "outputs": [],
   "source": [
    "n = 100\n",
    "m = 300\n",
    "b = A @ np.ones((n, 1)) / 2"
   ]
  },
  {
   "cell_type": "code",
   "execution_count": 5,
   "metadata": {},
   "outputs": [],
   "source": [
    "x = cp.Variable((n, 1))\n",
    "objective = cp.Minimize(c.T @ x)\n",
    "constraints = [0 <= x, x <= 1, A @ x <= b]\n",
    "prob = cp.Problem(objective, constraints)\n",
    "\n",
    "result = prob.solve()"
   ]
  },
  {
   "cell_type": "code",
   "execution_count": 6,
   "metadata": {},
   "outputs": [
    {
     "name": "stdout",
     "output_type": "stream",
     "text": [
      "Lower bound on p*: -33.16723960901254\n"
     ]
    }
   ],
   "source": [
    "print(\"Lower bound on p*:\", objective.value)"
   ]
  },
  {
   "cell_type": "code",
   "execution_count": 7,
   "metadata": {},
   "outputs": [
    {
     "data": {
      "text/plain": [
       "Text(0.5, 1.0, 'Max constraint violation for different thresholds\\n ie <0 implies that rounding is feasible')"
      ]
     },
     "execution_count": 7,
     "metadata": {},
     "output_type": "execute_result"
    },
    {
     "data": {
      "image/png": "[encoded data removed]",
      "text/plain": [
       "<Figure size 576x396 with 1 Axes>"
      ]
     },
     "metadata": {},
     "output_type": "display_data"
    }
   ],
   "source": [
    "t = np.linspace(0, 1, 100)\n",
    "\n",
    "max_constraint_violation = (A @ (x.value >= t).astype(int) - b).max(axis=0)\n",
    "\n",
    "ax = plt.gca()\n",
    "ax.plot(t, max_constraint_violation)\n",
    "ax.axhline(0, color=\"white\", zorder=-1, lw=4)\n",
    "ax.set_ylabel(\"max(Ax + b)\")\n",
    "ax.set_xlabel(\"boolean rounding threshold\")\n",
    "ax.set_title(\"Max constraint violation for different thresholds\\n ie <0 implies that rounding is feasible\")"
   ]
  },
  {
   "cell_type": "code",
   "execution_count": 8,
   "metadata": {},
   "outputs": [],
   "source": [
    "is_feasible = max_constraint_violation <= 0"
   ]
  },
  {
   "cell_type": "code",
   "execution_count": 9,
   "metadata": {},
   "outputs": [],
   "source": [
    "values = (c.T @ (x.value > t).astype(int))\n",
    "upper_bound = values[0, :][is_feasible].min()"
   ]
  },
  {
   "cell_type": "code",
   "execution_count": 10,
   "metadata": {},
   "outputs": [
    {
     "name": "stdout",
     "output_type": "stream",
     "text": [
      "Gap between upper and lower bound on p*: 0.7222088659125347\n"
     ]
    }
   ],
   "source": [
    "print(\"Gap between upper and lower bound on p*:\", upper_bound - objective.value)"
   ]
  },
  {
   "cell_type": "markdown",
   "metadata": {},
   "source": [
    "## Simple portfolio optimization"
   ]
  },
  {
   "cell_type": "code",
   "execution_count": 11,
   "metadata": {},
   "outputs": [],
   "source": [
    "S = read_txt_array(\"data/matrix_S.txt\")\n",
    "p_bar = read_txt_array(\"data/vector_pbar.txt\")\n",
    "n = p_bar.shape[0]"
   ]
  },
  {
   "cell_type": "code",
   "execution_count": 12,
   "metadata": {},
   "outputs": [],
   "source": [
    "uniform_portfolio = np.ones(n) / n\n",
    "uniform_expected_return = (p_bar.T @ uniform_portfolio)[0]"
   ]
  },
  {
   "cell_type": "code",
   "execution_count": 13,
   "metadata": {},
   "outputs": [
    {
     "name": "stdout",
     "output_type": "stream",
     "text": [
      "Uniform portfolio risk:  0.08703595741224256\n"
     ]
    }
   ],
   "source": [
    "uniform_portfolio_risk = uniform_portfolio.T @ S @ uniform_portfolio\n",
    "print(\"Uniform portfolio risk: \", np.sqrt(uniform_portfolio_risk))"
   ]
  },
  {
   "cell_type": "code",
   "execution_count": 14,
   "metadata": {},
   "outputs": [
    {
     "name": "stdout",
     "output_type": "stream",
     "text": [
      "Optimal portfolio risk: 0.018607150257670024\n"
     ]
    }
   ],
   "source": [
    "x = cp.Variable(n)\n",
    "objective = cp.Minimize(cp.quad_form(x, S))\n",
    "constraints = [np.ones(n) @ x == 1, p_bar.T @ x == uniform_expected_return]\n",
    "prob = cp.Problem(objective, constraints)\n",
    "\n",
    "result = prob.solve()\n",
    "print(f\"Optimal portfolio risk: {np.sqrt(objective.value)}\")"
   ]
  },
  {
   "cell_type": "code",
   "execution_count": 15,
   "metadata": {},
   "outputs": [
    {
     "name": "stdout",
     "output_type": "stream",
     "text": [
      "Optimal long-only portfolio risk: 0.050658217975691526\n"
     ]
    }
   ],
   "source": [
    "x = cp.Variable(n)\n",
    "objective = cp.Minimize(cp.quad_form(x, S))\n",
    "constraints = [np.ones(n) @ x == 1, p_bar.T @ x >= uniform_expected_return, x >= 0]\n",
    "prob = cp.Problem(objective, constraints)\n",
    "\n",
    "result = prob.solve()\n",
    "print(f\"Optimal long-only portfolio risk: {np.sqrt(objective.value)}\")"
   ]
  },
  {
   "cell_type": "code",
   "execution_count": 16,
   "metadata": {},
   "outputs": [
    {
     "name": "stdout",
     "output_type": "stream",
     "text": [
      "Optimal limited total-short position portfolio risk: 0.020994685491867865\n"
     ]
    }
   ],
   "source": [
    "x = cp.Variable(n)\n",
    "objective = cp.Minimize(cp.quad_form(x, S))\n",
    "constraints = [\n",
    "    np.ones(n) @ x == 1,\n",
    "    p_bar.T @ x >= uniform_expected_return,\n",
    "    np.ones(n) @ cp.maximum(-x, 0) <= 0.5\n",
    "    \n",
    "]\n",
    "prob = cp.Problem(objective, constraints)\n",
    "\n",
    "result = prob.solve()\n",
    "print(f\"Optimal limited total-short position portfolio risk: {np.sqrt(objective.value)}\")"
   ]
  }
 ],
 "metadata": {
  "kernelspec": {
   "display_name": "Python 3",
   "language": "python",
   "name": "python3"
  },
  "language_info": {
   "codemirror_mode": {
    "name": "ipython",
    "version": 3
   },
   "file_extension": ".py",
   "mimetype": "text/x-python",
   "name": "python",
   "nbconvert_exporter": "python",
   "pygments_lexer": "ipython3",
   "version": "3.7.7"
  }
 },
 "nbformat": 4,
 "nbformat_minor": 4
}
